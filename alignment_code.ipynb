{
 "cells": [
  {
   "cell_type": "code",
   "execution_count": 2,
   "metadata": {},
   "outputs": [],
   "source": [
    "import random\n",
    "import numpy as np\n",
    "import pandas as pd\n",
    "import matplotlib.pyplot as plt"
   ]
  },
  {
   "cell_type": "code",
   "execution_count": 3,
   "metadata": {},
   "outputs": [
    {
     "data": {
      "text/html": [
       "<div>\n",
       "<style scoped>\n",
       "    .dataframe tbody tr th:only-of-type {\n",
       "        vertical-align: middle;\n",
       "    }\n",
       "\n",
       "    .dataframe tbody tr th {\n",
       "        vertical-align: top;\n",
       "    }\n",
       "\n",
       "    .dataframe thead th {\n",
       "        text-align: right;\n",
       "    }\n",
       "</style>\n",
       "<table border=\"1\" class=\"dataframe\">\n",
       "  <thead>\n",
       "    <tr style=\"text-align: right;\">\n",
       "      <th></th>\n",
       "      <th>Amino Acid</th>\n",
       "      <th>Fitness</th>\n",
       "    </tr>\n",
       "  </thead>\n",
       "  <tbody>\n",
       "    <tr>\n",
       "      <th>0</th>\n",
       "      <td>LQKCHRESPLQRSAAYLLVILLALAMFAAAALVLVCVIASTSTSSS...</td>\n",
       "      <td>42</td>\n",
       "    </tr>\n",
       "    <tr>\n",
       "      <th>1</th>\n",
       "      <td>QISDKPGTEEATLPHLLVMIILLAMFAAAAAALVAVCIILVASTST...</td>\n",
       "      <td>43</td>\n",
       "    </tr>\n",
       "    <tr>\n",
       "      <th>2</th>\n",
       "      <td>VRLGRRSLLNCQIPPYLLVILLLAFLAMFAAAALVLAVCVMVASTS...</td>\n",
       "      <td>42</td>\n",
       "    </tr>\n",
       "    <tr>\n",
       "      <th>3</th>\n",
       "      <td>CWCECRPPTTHTRFILLVIILLAFAAAALVPLVAVRCIILVATTTT...</td>\n",
       "      <td>40</td>\n",
       "    </tr>\n",
       "    <tr>\n",
       "      <th>4</th>\n",
       "      <td>SSKLSHLLRNAPSNAYLLVILLAMFAIALVLAAVTAVVMILVSTTQ...</td>\n",
       "      <td>42</td>\n",
       "    </tr>\n",
       "    <tr>\n",
       "      <th>5</th>\n",
       "      <td>RLCVRLFLPNKCTHSYLLVWILLAMFAIALLAAVAVVMILVSTTQT...</td>\n",
       "      <td>28</td>\n",
       "    </tr>\n",
       "    <tr>\n",
       "      <th>6</th>\n",
       "      <td>SSKLSHLLRNAPSNAYLLVILLAMFAIALVLAAVTAVVMILVSTTQ...</td>\n",
       "      <td>42</td>\n",
       "    </tr>\n",
       "    <tr>\n",
       "      <th>7</th>\n",
       "      <td>GSRCYRYCEPAGEVVLLVIILLAFAAAALVPLVAVCIILVATTTTP...</td>\n",
       "      <td>39</td>\n",
       "    </tr>\n",
       "    <tr>\n",
       "      <th>8</th>\n",
       "      <td>PPRTTYQASLSQSNYLLVILLAMFAAAALVFPAVAVVMILVVATTT...</td>\n",
       "      <td>48</td>\n",
       "    </tr>\n",
       "    <tr>\n",
       "      <th>9</th>\n",
       "      <td>GPSRRLGHVIWPTFPYLLVILLLALAMFAAAPALVLAVCVMVASTT...</td>\n",
       "      <td>40</td>\n",
       "    </tr>\n",
       "  </tbody>\n",
       "</table>\n",
       "</div>"
      ],
      "text/plain": [
       "                                          Amino Acid  Fitness\n",
       "0  LQKCHRESPLQRSAAYLLVILLALAMFAAAALVLVCVIASTSTSSS...       42\n",
       "1  QISDKPGTEEATLPHLLVMIILLAMFAAAAAALVAVCIILVASTST...       43\n",
       "2  VRLGRRSLLNCQIPPYLLVILLLAFLAMFAAAALVLAVCVMVASTS...       42\n",
       "3  CWCECRPPTTHTRFILLVIILLAFAAAALVPLVAVRCIILVATTTT...       40\n",
       "4  SSKLSHLLRNAPSNAYLLVILLAMFAIALVLAAVTAVVMILVSTTQ...       42\n",
       "5  RLCVRLFLPNKCTHSYLLVWILLAMFAIALLAAVAVVMILVSTTQT...       28\n",
       "6  SSKLSHLLRNAPSNAYLLVILLAMFAIALVLAAVTAVVMILVSTTQ...       42\n",
       "7  GSRCYRYCEPAGEVVLLVIILLAFAAAALVPLVAVCIILVATTTTP...       39\n",
       "8  PPRTTYQASLSQSNYLLVILLAMFAAAALVFPAVAVVMILVVATTT...       48\n",
       "9  GPSRRLGHVIWPTFPYLLVILLLALAMFAAAPALVLAVCVMVASTT...       40"
      ]
     },
     "execution_count": 3,
     "metadata": {},
     "output_type": "execute_result"
    }
   ],
   "source": [
    "## Read data from file\n",
    "gen_table = pd.read_csv('gen_table_mixed.csv')\n",
    "gen_table"
   ]
  },
  {
   "cell_type": "code",
   "execution_count": 4,
   "metadata": {},
   "outputs": [
    {
     "data": {
      "text/plain": [
       "0    LQKCHRESPLQRSAAYLLVILLALAMFAAAALVLVCVIASTSTSSS...\n",
       "1    QISDKPGTEEATLPHLLVMIILLAMFAAAAAALVAVCIILVASTST...\n",
       "2    VRLGRRSLLNCQIPPYLLVILLLAFLAMFAAAALVLAVCVMVASTS...\n",
       "3    CWCECRPPTTHTRFILLVIILLAFAAAALVPLVAVRCIILVATTTT...\n",
       "4    SSKLSHLLRNAPSNAYLLVILLAMFAIALVLAAVTAVVMILVSTTQ...\n",
       "5    RLCVRLFLPNKCTHSYLLVWILLAMFAIALLAAVAVVMILVSTTQT...\n",
       "6    SSKLSHLLRNAPSNAYLLVILLAMFAIALVLAAVTAVVMILVSTTQ...\n",
       "7    GSRCYRYCEPAGEVVLLVIILLAFAAAALVPLVAVCIILVATTTTP...\n",
       "8    PPRTTYQASLSQSNYLLVILLAMFAAAALVFPAVAVVMILVVATTT...\n",
       "9    GPSRRLGHVIWPTFPYLLVILLLALAMFAAAPALVLAVCVMVASTT...\n",
       "Name: Amino Acid, dtype: object"
      ]
     },
     "execution_count": 4,
     "metadata": {},
     "output_type": "execute_result"
    }
   ],
   "source": [
    "gen_array = gen_table[\"Amino Acid\"]\n",
    "gen_fit = gen_table[\"Fitness\"]\n",
    "gen_array"
   ]
  },
  {
   "cell_type": "code",
   "execution_count": 8,
   "metadata": {},
   "outputs": [],
   "source": [
    "amino_acids = {\n",
    "    'A': 0, 'R': 1, 'N': 2, 'D': 3, 'C': 4, 'Q': 5, 'E': 6, 'G': 7, 'H': 8, 'I': 9,\n",
    "    'L': 10, 'K': 11, 'M': 12, 'F': 13, 'P': 14, 'S': 15, 'T': 16, 'W': 17, 'Y': 18, 'V': 19\n",
    "}\n",
    "\n",
    "blosum50_matrix = [\n",
    "    [ 5, -2, -1, -2, -1, -1, -1,  0, -2, -1, -2, -1, -1, -3, -1,  1,  0, -3, -2,  0],\n",
    "    [-2,  7, -1, -2, -4,  1,  0, -3,  0, -4, -3,  3, -2, -3, -3, -1, -1, -3, -1, -3],\n",
    "    [-1, -1,  7,  2, -2,  0,  0,  0,  1, -3, -4,  0, -2, -4, -2,  1,  0, -4, -2, -3],\n",
    "    [-2, -2,  2,  8, -4,  0,  2, -1, -1, -4, -4, -1, -4, -5, -1,  0, -1, -5, -3, -4],\n",
    "    [-1, -4, -2, -4, 13, -3, -3, -3, -3, -2, -2, -3, -2, -2, -4, -1, -1, -5, -3, -1],\n",
    "    [-1,  1,  0,  0, -3,  7,  2, -2,  1, -3, -2,  2,  0, -4, -1,  0, -1, -1, -1, -3],\n",
    "    [-1,  0,  0,  2, -3,  2,  6, -3,  0, -4, -3,  1, -2, -3, -1,  -1, -1, -3, -2, -3],\n",
    "    [ 0, -3,  0, -1, -3, -2, -3,  8, -2, -4, -4, -2, -3, -4, -2,  0, -2, -3, -3, -4],\n",
    "    [-2,  0,  1, -1, -3,  1,  0, -2, 10, -4, -3,  0, -1, -1, -2, -1, -2, -3,  2, -4],\n",
    "    [-1, -4, -3, -4, -2, -3, -4, -4, -4,  5,  2, -3,  2,  0, -3, -3, -1, -3, -1,  4],\n",
    "    [-2, -3, -4, -4, -2, -2, -3, -4, -3,  2,  5, -3,  3,  1, -4, -3, -1, -2, -1,  1],\n",
    "    [-1,  3,  0, -1, -3,  2,  1, -2,  0, -3, -3,  6, -2, -4, -1,  0, -1, -3, -2, -3],\n",
    "    [-1, -2, -2, -4, -2,  0, -2, -3, -1,  2,  3, -2,  7,  0, -3, -2, -1, -1,  0,  1],\n",
    "    [-3, -3, -4, -5, -2, -4, -3, -4, -1,  0,  1, -4,  0,  8, -4, -3, -2,  1,  4, -1],\n",
    "    [-1, -3, -2, -1, -4, -1, -1, -2, -2, -3, -4, -1, -3, -4, 10, -1, -1, -4, -3, -3],\n",
    "    [ 1, -1,  1,  0, -1,  0,  -1,  0, -1, -3, -3,  0, -2, -3, -1,  5,  2, -4, -2, -2],\n",
    "    [ 0, -1,  0, -1, -1, -1, -1, -2, -2, -1, -1, -1, -1, -2, -1,  2,  5, -3, -2,  0],\n",
    "    [-3, -3, -4, -5, -5, -1, -3, -3, -3, -3, -2, -3, -1,  1, -4, -4, -3, 15,  2, -3],\n",
    "    [-2, -1, -2, -3, -3, -1, -2, -3,  2, -1, -1, -2, 0,  4, -3, -2, -2,  2,  8, -1],\n",
    "    [ 0, -3, -3, -4, -1, -3, -3, -4, -4,  4,  1, -3,  1, -1, -3, -2,  0, -3, -1,  5]\n",
    "]"
   ]
  },
  {
   "cell_type": "code",
   "execution_count": 9,
   "metadata": {},
   "outputs": [],
   "source": [
    "class align:\n",
    "    \n",
    "    def __init__(self, str1, str2):\n",
    "        self.str1 = str1\n",
    "        self.str2 = str2\n",
    "        self.gapP = -8\n",
    "        self.score = [[0 for x in range(0,len(self.str1)+1)] for y in range(0,len(self.str2)+1)]\n",
    "        self.direction = [[0 for x in range(0,len(self.str1)+1)] for y in range(0,len(self.str2)+1)]\n",
    "\n",
    "    def my_print(self,array):\n",
    "        for r in array:\n",
    "            for c in r:\n",
    "                print(f\"{c:4}\",end = ' ')\n",
    "            print()\n",
    "\n",
    "    def fill_matrix(self):\n",
    "        for c in range(0,len(self.str1)+1):\n",
    "            self.score[0][c] = c*self.gapP\n",
    "            self.direction[0][c] = '-'\n",
    "        for r in range(0,len(self.str2)+1):\n",
    "            self.score[r][0] = r*self.gapP\n",
    "            self.direction[r][0] = '|'\n",
    "        self.direction[0][0] = 'X'\n",
    "        # self.my_print(self.score)\n",
    "        # self.my_print(self.direction)\n",
    "\n",
    "\n",
    "    def NW(self):\n",
    "        for c in range(1,len(self.str1)+1):\n",
    "            for r in range(1,len(self.str2)+1):\n",
    "                scoreD = self.score[r-1][c-1] + blosum50_matrix[amino_acids[self.str2[r-1]]][amino_acids[self.str1[c-1]]]\n",
    "                scoreV = self.score[r-1][c] + self.gapP\n",
    "                scoreH = self.score[r][c-1] + self.gapP\n",
    "                self.score[r][c] = max(scoreD,scoreV,scoreH)\n",
    "                if(self.score[r][c] == scoreD):\n",
    "                    self.direction[r][c] = \"\\\\\"\n",
    "                if(self.score[r][c] == scoreH):\n",
    "                    self.direction[r][c] = \"-\"\n",
    "                if(self.score[r][c] == scoreV):\n",
    "                    self.direction[r][c] = \"|\"\n",
    "        \n",
    "    #     self.my_print(self.score)\n",
    "    #     self.my_print(self.direction)\n",
    "\n",
    "\n",
    "    def global_alignment(self):\n",
    "        align1 = \"\"\n",
    "        align2 = \"\"\n",
    "        row = len(self.str2)\n",
    "        col = len(self.str1)\n",
    "        while(row > 0 or col > 0):\n",
    "            if(self.direction[row][col] == \"\\\\\"):\n",
    "                align1 += self.str1[col-1]\n",
    "                align2 += self.str2[row-1]\n",
    "                row -= 1\n",
    "                col -= 1\n",
    "            if(self.direction[row][col] == \"-\"):\n",
    "                align1 += self.str1[col-1]\n",
    "                align2 += \"-\"\n",
    "                col -= 1\n",
    "            if(self.direction[row][col] == \"|\"):\n",
    "                align1 += \"-\"\n",
    "                align2 += self.str2[row-1]\n",
    "                row -= 1\n",
    "        align1 = align1[::-1]\n",
    "        align2 = align2[::-1]\n",
    "        target = self.score[len(self.str2)][len(self.str1)]\n",
    "        return align1,align2, target"
   ]
  },
  {
   "cell_type": "code",
   "execution_count": 10,
   "metadata": {},
   "outputs": [],
   "source": [
    "def my_print(array):\n",
    "        for r in array:\n",
    "            for c in r:\n",
    "                print(f\"{c:4}\",end = ' ')\n",
    "            print()"
   ]
  },
  {
   "cell_type": "code",
   "execution_count": 11,
   "metadata": {},
   "outputs": [
    {
     "data": {
      "text/plain": [
       "0    LQKCHRESPLQRSAAYLLVILLALAMFAAAALVLVCVIASTSTSSS...\n",
       "1    QISDKPGTEEATLPHLLVMIILLAMFAAAAAALVAVCIILVASTST...\n",
       "2    VRLGRRSLLNCQIPPYLLVILLLAFLAMFAAAALVLAVCVMVASTS...\n",
       "3    CWCECRPPTTHTRFILLVIILLAFAAAALVPLVAVRCIILVATTTT...\n",
       "4    SSKLSHLLRNAPSNAYLLVILLAMFAIALVLAAVTAVVMILVSTTQ...\n",
       "5    RLCVRLFLPNKCTHSYLLVWILLAMFAIALLAAVAVVMILVSTTQT...\n",
       "6    SSKLSHLLRNAPSNAYLLVILLAMFAIALVLAAVTAVVMILVSTTQ...\n",
       "7    GSRCYRYCEPAGEVVLLVIILLAFAAAALVPLVAVCIILVATTTTP...\n",
       "8    PPRTTYQASLSQSNYLLVILLAMFAAAALVFPAVAVVMILVVATTT...\n",
       "9    GPSRRLGHVIWPTFPYLLVILLLALAMFAAAPALVLAVCVMVASTT...\n",
       "Name: Amino Acid, dtype: object"
      ]
     },
     "execution_count": 11,
     "metadata": {},
     "output_type": "execute_result"
    }
   ],
   "source": [
    "gen_array"
   ]
  },
  {
   "cell_type": "code",
   "execution_count": 12,
   "metadata": {},
   "outputs": [],
   "source": [
    "pairwise_score = {}\n",
    "\n",
    "score_matrix = [[0 for x in range(0, len(gen_array))] for y in range(0, len(gen_array))]\n",
    "\n",
    "for i in range(0, len(gen_array)):\n",
    "    for j in range(i+1, len(gen_array)):\n",
    "        local = align(gen_array[i],gen_array[j])\n",
    "        local.fill_matrix()\n",
    "        local.NW()\n",
    "        str1, str2, target = local.global_alignment()\n",
    "        pairwise_score[(i+1,j)] = target\n",
    "        score_matrix[i][j] = score_matrix[j][i] = target\n",
    "        # score_matrix[j][i] = target\n"
   ]
  },
  {
   "cell_type": "code",
   "execution_count": 13,
   "metadata": {},
   "outputs": [
    {
     "name": "stdout",
     "output_type": "stream",
     "text": [
      "   0  147  174  109   86   64   86  110  109  136 \n",
      " 147    0  149  137   90   60   90  122  130  162 \n",
      " 174  149    0   88   94   59   94  121  118  183 \n",
      " 109  137   88    0   80   72   80  179  125  110 \n",
      "  86   90   94   80    0  144  316  107  147  123 \n",
      "  64   60   59   72  144    0  144   67   69   62 \n",
      "  86   90   94   80  316  144    0  107  147  123 \n",
      " 110  122  121  179  107   67  107    0  135  111 \n",
      " 109  130  118  125  147   69  147  135    0  108 \n",
      " 136  162  183  110  123   62  123  111  108    0 \n"
     ]
    }
   ],
   "source": [
    "my_print(score_matrix)"
   ]
  },
  {
   "cell_type": "code",
   "execution_count": 14,
   "metadata": {},
   "outputs": [
    {
     "name": "stdout",
     "output_type": "stream",
     "text": [
      "Evolutionary Age (Oldest to Youngest):\n",
      "Sequence 5 (Total Distance: 741)\n",
      "RLCVRLFLPNKCTHSYLLVWILLAMFAIALLAAVAVVMILVSTTQTTSRRR\n",
      "Sequence 3 (Total Distance: 980)\n",
      "CWCECRPPTTHTRFILLVIILLAFAAAALVPLVAVRCIILVATTTTSSRRRRKRR\n",
      "Sequence 0 (Total Distance: 1021)\n",
      "LQKCHRESPLQRSAAYLLVILLALAMFAAAALVLVCVIASTSTSSSRRRRKRRRR\n",
      "Sequence 7 (Total Distance: 1059)\n",
      "GSRCYRYCEPAGEVVLLVIILLAFAAAALVPLVAVCIILVATTTTPSTSRSRKRR\n",
      "Sequence 2 (Total Distance: 1080)\n",
      "VRLGRRSLLNCQIPPYLLVILLLAFLAMFAAAALVLAVCVMVASTSTSSTSRSRKRRRR\n",
      "Sequence 1 (Total Distance: 1087)\n",
      "QISDKPGTEEATLPHLLVMIILLAMFAAAAAALVAVCIILVASTSTSSSRRRKRRRR\n",
      "Sequence 8 (Total Distance: 1088)\n",
      "PPRTTYQASLSQSNYLLVILLAMFAAAALVFPAVAVVMILVVATTTSTSRSRKRRRR\n",
      "Sequence 9 (Total Distance: 1118)\n",
      "GPSRRLGHVIWPTFPYLLVILLLALAMFAAAPALVLAVCVMVASTTQTTSRRRRRRR\n",
      "Sequence 6 (Total Distance: 1187)\n",
      "SSKLSHLLRNAPSNAYLLVILLAMFAIALVLAAVTAVVMILVSTTQTTSRRRRRR\n",
      "Sequence 4 (Total Distance: 1187)\n",
      "SSKLSHLLRNAPSNAYLLVILLAMFAIALVLAAVTAVVMILVSTTQTTSRRRRRR\n"
     ]
    }
   ],
   "source": [
    "## Adds al the rows together into a list\n",
    "total_distances = np.sum(score_matrix, axis=1)\n",
    "\n",
    "# Get ranking (sorted from highest to lowest distance)\n",
    "ranking = np.argsort(total_distances)  \n",
    "\n",
    "# Display ranked order\n",
    "print(\"Evolutionary Age (Oldest to Youngest):\")\n",
    "for rank, idx in enumerate(ranking):\n",
    "    print(f\"Sequence {idx} (Total Distance: {total_distances[idx]})\\n{gen_array[idx]}\")\n"
   ]
  }
 ],
 "metadata": {
  "kernelspec": {
   "display_name": "Python 3",
   "language": "python",
   "name": "python3"
  },
  "language_info": {
   "codemirror_mode": {
    "name": "ipython",
    "version": 3
   },
   "file_extension": ".py",
   "mimetype": "text/x-python",
   "name": "python",
   "nbconvert_exporter": "python",
   "pygments_lexer": "ipython3",
   "version": "3.13.2"
  }
 },
 "nbformat": 4,
 "nbformat_minor": 2
}
