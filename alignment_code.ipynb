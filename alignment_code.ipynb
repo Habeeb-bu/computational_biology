{
 "cells": [
  {
   "cell_type": "code",
   "execution_count": 1,
   "metadata": {},
   "outputs": [],
   "source": [
    "import random\n",
    "import numpy as np\n",
    "import pandas as pd\n",
    "import matplotlib.pyplot as plt"
   ]
  },
  {
   "cell_type": "code",
   "execution_count": 36,
   "metadata": {},
   "outputs": [
    {
     "data": {
      "text/html": [
       "<div>\n",
       "<style scoped>\n",
       "    .dataframe tbody tr th:only-of-type {\n",
       "        vertical-align: middle;\n",
       "    }\n",
       "\n",
       "    .dataframe tbody tr th {\n",
       "        vertical-align: top;\n",
       "    }\n",
       "\n",
       "    .dataframe thead th {\n",
       "        text-align: right;\n",
       "    }\n",
       "</style>\n",
       "<table border=\"1\" class=\"dataframe\">\n",
       "  <thead>\n",
       "    <tr style=\"text-align: right;\">\n",
       "      <th></th>\n",
       "      <th>Amino Acid</th>\n",
       "      <th>Fitness</th>\n",
       "    </tr>\n",
       "  </thead>\n",
       "  <tbody>\n",
       "    <tr>\n",
       "      <th>0</th>\n",
       "      <td>GREEDQNSCHTKTFLLIFPVAALYCAQCMAGCFCNLRLYGTYRGYD...</td>\n",
       "      <td>27</td>\n",
       "    </tr>\n",
       "    <tr>\n",
       "      <th>1</th>\n",
       "      <td>RREEDEDHQKGHGTSALPSLALSHHVALASGERAHPIVHHPSIPTQ...</td>\n",
       "      <td>27</td>\n",
       "    </tr>\n",
       "    <tr>\n",
       "      <th>2</th>\n",
       "      <td>RRRDDSQSNSSTAVWNGIVAFCFRFDRIGRHSRFVNVILNLRPAGE...</td>\n",
       "      <td>20</td>\n",
       "    </tr>\n",
       "    <tr>\n",
       "      <th>3</th>\n",
       "      <td>RIEEHGDHQKGHAKRSGLIIQPISGLLNSSLLPPYANFDLERLRRE...</td>\n",
       "      <td>24</td>\n",
       "    </tr>\n",
       "    <tr>\n",
       "      <th>4</th>\n",
       "      <td>RRRDDSDCSNGSTMVAGAVDILLGSGVVELLSVKNLGTEPAVRREK...</td>\n",
       "      <td>26</td>\n",
       "    </tr>\n",
       "    <tr>\n",
       "      <th>5</th>\n",
       "      <td>RRRYDSDTCSNSSTTVLGAVLNGDSIRVGPVWAVALPTVNAFTAEK...</td>\n",
       "      <td>31</td>\n",
       "    </tr>\n",
       "    <tr>\n",
       "      <th>6</th>\n",
       "      <td>RRRDDSDCSNGSTRFGVARPLCYNGTAVDRIGVYLSGRHHANGKVP...</td>\n",
       "      <td>25</td>\n",
       "    </tr>\n",
       "    <tr>\n",
       "      <th>7</th>\n",
       "      <td>RRRDDSDCSNGSTTFPRPKILAISVTMVPVCLPGNTVIRIVAAGQK...</td>\n",
       "      <td>28</td>\n",
       "    </tr>\n",
       "    <tr>\n",
       "      <th>8</th>\n",
       "      <td>RRRDDSDCSNGSTTILQIFGVARLDKAPFDRHLSLHLIHTLRRVKE...</td>\n",
       "      <td>15</td>\n",
       "    </tr>\n",
       "    <tr>\n",
       "      <th>9</th>\n",
       "      <td>RREEDEDHQNSGSTNGGVLPLLVKCCCVLYGLLLFLIIIQFMRREK...</td>\n",
       "      <td>39</td>\n",
       "    </tr>\n",
       "  </tbody>\n",
       "</table>\n",
       "</div>"
      ],
      "text/plain": [
       "                                          Amino Acid  Fitness\n",
       "0  GREEDQNSCHTKTFLLIFPVAALYCAQCMAGCFCNLRLYGTYRGYD...       27\n",
       "1  RREEDEDHQKGHGTSALPSLALSHHVALASGERAHPIVHHPSIPTQ...       27\n",
       "2  RRRDDSQSNSSTAVWNGIVAFCFRFDRIGRHSRFVNVILNLRPAGE...       20\n",
       "3  RIEEHGDHQKGHAKRSGLIIQPISGLLNSSLLPPYANFDLERLRRE...       24\n",
       "4  RRRDDSDCSNGSTMVAGAVDILLGSGVVELLSVKNLGTEPAVRREK...       26\n",
       "5  RRRYDSDTCSNSSTTVLGAVLNGDSIRVGPVWAVALPTVNAFTAEK...       31\n",
       "6  RRRDDSDCSNGSTRFGVARPLCYNGTAVDRIGVYLSGRHHANGKVP...       25\n",
       "7  RRRDDSDCSNGSTTFPRPKILAISVTMVPVCLPGNTVIRIVAAGQK...       28\n",
       "8  RRRDDSDCSNGSTTILQIFGVARLDKAPFDRHLSLHLIHTLRRVKE...       15\n",
       "9  RREEDEDHQNSGSTNGGVLPLLVKCCCVLYGLLLFLIIIQFMRREK...       39"
      ]
     },
     "execution_count": 36,
     "metadata": {},
     "output_type": "execute_result"
    }
   ],
   "source": [
    "## Read data from file\n",
    "gen_table = pd.read_csv('gen_table.csv')\n",
    "gen_table"
   ]
  },
  {
   "cell_type": "code",
   "execution_count": 39,
   "metadata": {},
   "outputs": [
    {
     "data": {
      "text/plain": [
       "0    GREEDQNSCHTKTFLLIFPVAALYCAQCMAGCFCNLRLYGTYRGYD...\n",
       "1    RREEDEDHQKGHGTSALPSLALSHHVALASGERAHPIVHHPSIPTQ...\n",
       "2    RRRDDSQSNSSTAVWNGIVAFCFRFDRIGRHSRFVNVILNLRPAGE...\n",
       "3    RIEEHGDHQKGHAKRSGLIIQPISGLLNSSLLPPYANFDLERLRRE...\n",
       "4    RRRDDSDCSNGSTMVAGAVDILLGSGVVELLSVKNLGTEPAVRREK...\n",
       "5    RRRYDSDTCSNSSTTVLGAVLNGDSIRVGPVWAVALPTVNAFTAEK...\n",
       "6    RRRDDSDCSNGSTRFGVARPLCYNGTAVDRIGVYLSGRHHANGKVP...\n",
       "7    RRRDDSDCSNGSTTFPRPKILAISVTMVPVCLPGNTVIRIVAAGQK...\n",
       "8    RRRDDSDCSNGSTTILQIFGVARLDKAPFDRHLSLHLIHTLRRVKE...\n",
       "9    RREEDEDHQNSGSTNGGVLPLLVKCCCVLYGLLLFLIIIQFMRREK...\n",
       "Name: Amino Acid, dtype: object"
      ]
     },
     "execution_count": 39,
     "metadata": {},
     "output_type": "execute_result"
    }
   ],
   "source": [
    "gen_array = gen_table[\"Amino Acid\"]\n",
    "gen_fit = gen_table[\"Fitness\"]\n",
    "gen_array"
   ]
  },
  {
   "cell_type": "code",
   "execution_count": 40,
   "metadata": {},
   "outputs": [
    {
     "data": {
      "text/plain": [
       "0    27\n",
       "1    27\n",
       "2    20\n",
       "3    24\n",
       "4    26\n",
       "5    31\n",
       "6    25\n",
       "7    28\n",
       "8    15\n",
       "9    39\n",
       "Name: Fitness, dtype: int64"
      ]
     },
     "execution_count": 40,
     "metadata": {},
     "output_type": "execute_result"
    }
   ],
   "source": [
    "gen_fit"
   ]
  },
  {
   "cell_type": "code",
   "execution_count": null,
   "metadata": {},
   "outputs": [],
   "source": [
    "## "
   ]
  },
  {
   "cell_type": "code",
   "execution_count": null,
   "metadata": {},
   "outputs": [],
   "source": [
    "# pop_array = []\n",
    "# with open(\"pop_array.csv\", \"r\") as popfile: \n",
    "#     reader = csv.reader(popfile)\n",
    "#     for row in reader:\n",
    "#         pop_array.append(''.join(row))\n",
    "\n",
    "# pop_array"
   ]
  },
  {
   "cell_type": "code",
   "execution_count": null,
   "metadata": {},
   "outputs": [],
   "source": [
    "amino_acids = {\n",
    "    'A': 0, 'R': 1, 'N': 2, 'D': 3, 'C': 4, 'Q': 5, 'E': 6, 'G': 7, 'H': 8, 'I': 9,\n",
    "    'L': 10, 'K': 11, 'M': 12, 'F': 13, 'P': 14, 'S': 15, 'T': 16, 'W': 17, 'Y': 18, 'V': 19\n",
    "}\n",
    "\n",
    "blosum50_matrix = [\n",
    "    [ 5, -2, -1, -2, -1, -1, -1,  0, -2, -1, -2, -1, -1, -3, -1,  1,  0, -3, -2,  0],\n",
    "    [-2,  7, -1, -2, -4,  1,  0, -3,  0, -4, -3,  3, -2, -3, -3, -1, -1, -3, -1, -3],\n",
    "    [-1, -1,  7,  2, -2,  0,  0,  0,  1, -3, -4,  0, -2, -4, -2,  1,  0, -4, -2, -3],\n",
    "    [-2, -2,  2,  8, -4,  0,  2, -1, -1, -4, -4, -1, -4, -5, -1,  0, -1, -5, -3, -4],\n",
    "    [-1, -4, -2, -4, 13, -3, -3, -3, -3, -2, -2, -3, -2, -2, -4, -1, -1, -5, -3, -1],\n",
    "    [-1,  1,  0,  0, -3,  7,  2, -2,  1, -3, -2,  2,  0, -4, -1,  0, -1, -1, -1, -3],\n",
    "    [-1,  0,  0,  2, -3,  2,  6, -3,  0, -4, -3,  1, -2, -3, -1,  -1, -1, -3, -2, -3],\n",
    "    [ 0, -3,  0, -1, -3, -2, -3,  8, -2, -4, -4, -2, -3, -4, -2,  0, -2, -3, -3, -4],\n",
    "    [-2,  0,  1, -1, -3,  1,  0, -2, 10, -4, -3,  0, -1, -1, -2, -1, -2, -3,  2, -4],\n",
    "    [-1, -4, -3, -4, -2, -3, -4, -4, -4,  5,  2, -3,  2,  0, -3, -3, -1, -3, -1,  4],\n",
    "    [-2, -3, -4, -4, -2, -2, -3, -4, -3,  2,  5, -3,  3,  1, -4, -3, -1, -2, -1,  1],\n",
    "    [-1,  3,  0, -1, -3,  2,  1, -2,  0, -3, -3,  6, -2, -4, -1,  0, -1, -3, -2, -3],\n",
    "    [-1, -2, -2, -4, -2,  0, -2, -3, -1,  2,  3, -2,  7,  0, -3, -2, -1, -1,  0,  1],\n",
    "    [-3, -3, -4, -5, -2, -4, -3, -4, -1,  0,  1, -4,  0,  8, -4, -3, -2,  1,  4, -1],\n",
    "    [-1, -3, -2, -1, -4, -1, -1, -2, -2, -3, -4, -1, -3, -4, 10, -1, -1, -4, -3, -3],\n",
    "    [ 1, -1,  1,  0, -1,  0,  -1,  0, -1, -3, -3,  0, -2, -3, -1,  5,  2, -4, -2, -2],\n",
    "    [ 0, -1,  0, -1, -1, -1, -1, -2, -2, -1, -1, -1, -1, -2, -1,  2,  5, -3, -2,  0],\n",
    "    [-3, -3, -4, -5, -5, -1, -3, -3, -3, -3, -2, -3, -1,  1, -4, -4, -3, 15,  2, -3],\n",
    "    [-2, -1, -2, -3, -3, -1, -2, -3,  2, -1, -1, -2, 0,  4, -3, -2, -2,  2,  8, -1],\n",
    "    [ 0, -3, -3, -4, -1, -3, -3, -4, -4,  4,  1, -3,  1, -1, -3, -2,  0, -3, -1,  5]\n",
    "]"
   ]
  },
  {
   "cell_type": "code",
   "execution_count": null,
   "metadata": {},
   "outputs": [],
   "source": [
    "class align:\n",
    "    \n",
    "    def __init__(self, str1, str2):\n",
    "        self.str1 = str1\n",
    "        self.str2 = str2\n",
    "        self.gapP = -8\n",
    "        self.score = [[0 for x in range(0,len(self.str1)+1)] for y in range(0,len(self.str2)+1)]\n",
    "        self.direction = [[0 for x in range(0,len(self.str1)+1)] for y in range(0,len(self.str2)+1)]\n",
    "\n",
    "    def my_print(self,array):\n",
    "        for r in array:\n",
    "            for c in r:\n",
    "                print(f\"{c:4}\",end = ' ')\n",
    "            print()\n",
    "\n",
    "    def fill_matrix(self):\n",
    "        for c in range(0,len(self.str1)+1):\n",
    "            self.score[0][c] = c*self.gapP\n",
    "            self.direction[0][c] = '-'\n",
    "        for r in range(0,len(self.str2)+1):\n",
    "            self.score[r][0] = r*self.gapP\n",
    "            self.direction[r][0] = '|'\n",
    "        self.direction[0][0] = 'X'\n",
    "        # self.my_print(self.score)\n",
    "        # self.my_print(self.direction)\n",
    "\n",
    "    # def SW(self):\n",
    "    #     for c in range(1,len(self.str1)+1):\n",
    "    #         for r in range(1,len(self.str2)+1):\n",
    "    #             scoreD = self.score[r-1][c-1] + blosum50_matrix[amino_acids[self.str2[r-1]]][amino_acids[self.str1[c-1]]]\n",
    "    #             scoreV = self.score[r-1][c] + self.gapP \n",
    "    #             scoreH = self.score[r][c-1] + self.gapP\n",
    "    #             # set to initial index in columns thats always 0\n",
    "    #             scoreZ = 0\n",
    "    #             self.score[r][c] = max(scoreD,scoreV,scoreH,scoreZ)\n",
    "    #             if(self.score[r][c] == scoreD):\n",
    "    #                 self.direction[r][c] = \"\\\\\"\n",
    "    #             if(self.score[r][c] == scoreH):\n",
    "    #                 self.direction[r][c] = \"-\"\n",
    "    #             if(self.score[r][c] == scoreV):\n",
    "    #                 self.direction[r][c] = \"|\"\n",
    "\n",
    "    #     self.my_print(self.score)\n",
    "    #     self.my_print(self.direction)\n",
    "\n",
    "    def NW(self):\n",
    "        for c in range(1,len(self.str1)+1):\n",
    "            for r in range(1,len(self.str2)+1):\n",
    "                scoreD = self.score[r-1][c-1] + blosum50_matrix[amino_acids[self.str2[r-1]]][amino_acids[self.str1[c-1]]]\n",
    "                scoreV = self.score[r-1][c] + self.gapP\n",
    "                scoreH = self.score[r][c-1] + self.gapP\n",
    "                self.score[r][c] = max(scoreD,scoreV,scoreH)\n",
    "                if(self.score[r][c] == scoreD):\n",
    "                    self.direction[r][c] = \"\\\\\"\n",
    "                if(self.score[r][c] == scoreH):\n",
    "                    self.direction[r][c] = \"-\"\n",
    "                if(self.score[r][c] == scoreV):\n",
    "                    self.direction[r][c] = \"|\"\n",
    "        \n",
    "    #     self.my_print(self.score)\n",
    "    #     self.my_print(self.direction)\n",
    "\n",
    "\n",
    "    def local_alignment(self):\n",
    "        align1 = \"\"\n",
    "        align2 = \"\"\n",
    "\n",
    "        # For LOCAL ALIGNMENT\n",
    "        target = max(map(max, self.score))\n",
    "        print(\"Largest value in the matrix is: \", target)\n",
    "        s = [start for start in self.score if target in start][0]\n",
    "\n",
    "        print ('The index is (%d,%d)'%(self.score.index(s), s.index(target)))\n",
    "        \n",
    "        row = self.score.index(s)\n",
    "        col = s.index(target)\n",
    "\n",
    "\n",
    "        while(row > 0 or col > 0):\n",
    "            if(self.direction[row][col] == \"\\\\\"):\n",
    "                align1 += self.str1[col-1]\n",
    "                align2 += self.str2[row-1]\n",
    "                row -= 1\n",
    "                col -= 1\n",
    "            if(self.direction[row][col] == \"-\"):\n",
    "                align1 += self.str1[col-1]\n",
    "                align2 += \"-\"\n",
    "                col -= 1\n",
    "            if(self.direction[row][col] == \"|\"):\n",
    "                align1 += \"-\"\n",
    "                align2 += self.str2[row-1]\n",
    "                row -= 1\n",
    "            if(self.direction[row][col] == 0):\n",
    "                break\n",
    "        align1 = align1[::-1]\n",
    "        align2 = align2[::-1]\n",
    "\n",
    "        print(align1)\n",
    "        print(align2)\n",
    "        return align1, align2, target\n",
    "    \n",
    "    def global_alignment(self):\n",
    "        align1 = \"\"\n",
    "        align2 = \"\"\n",
    "        row = len(self.str2)\n",
    "        col = len(self.str1)\n",
    "        while(row > 0 or col > 0):\n",
    "            if(self.direction[row][col] == \"\\\\\"):\n",
    "                align1 += self.str1[col-1]\n",
    "                align2 += self.str2[row-1]\n",
    "                row -= 1\n",
    "                col -= 1\n",
    "            if(self.direction[row][col] == \"-\"):\n",
    "                align1 += self.str1[col-1]\n",
    "                align2 += \"-\"\n",
    "                col -= 1\n",
    "            if(self.direction[row][col] == \"|\"):\n",
    "                align1 += \"-\"\n",
    "                align2 += self.str2[row-1]\n",
    "                row -= 1\n",
    "        align1 = align1[::-1]\n",
    "        align2 = align2[::-1]\n",
    "        target = self.score[len(self.str2)][len(self.str1)]\n",
    "        return align1,align2, target"
   ]
  },
  {
   "cell_type": "code",
   "execution_count": null,
   "metadata": {},
   "outputs": [],
   "source": [
    "def my_print(array):\n",
    "        for r in array:\n",
    "            for c in r:\n",
    "                print(f\"{c:4}\",end = ' ')\n",
    "            print()"
   ]
  },
  {
   "cell_type": "code",
   "execution_count": null,
   "metadata": {},
   "outputs": [],
   "source": [
    "local = align(gen_array[3],gen_array[4])\n",
    "local.fill_matrix()\n",
    "local.NW()\n",
    "\n",
    "print(gen_array[3])\n",
    "print(gen_array[4])\n",
    "\n",
    "str1, str2, target = local.local_alignment()\n",
    "\n",
    "print(\"Score: \", target)\n",
    "\n"
   ]
  },
  {
   "cell_type": "code",
   "execution_count": null,
   "metadata": {},
   "outputs": [],
   "source": [
    "gen_array"
   ]
  },
  {
   "cell_type": "code",
   "execution_count": null,
   "metadata": {},
   "outputs": [],
   "source": [
    "pairwise_score = {}\n",
    "\n",
    "score_matrix = [[0 for x in range(0, len(gen_array))] for y in range(0, len(gen_array))]\n",
    "\n",
    "for i in range(0, len(gen_array)):\n",
    "    for j in range(i+1, len(gen_array)):\n",
    "        local = align(gen_array[i],gen_array[j])\n",
    "        local.fill_matrix()\n",
    "        local.NW()\n",
    "        str1, str2, target = local.global_alignment()\n",
    "        pairwise_score[(i,j)] = target\n",
    "        # score_matrix[i][j] = score_matrix[j][i] = target\n",
    "        score_matrix[j][i] = target\n"
   ]
  },
  {
   "cell_type": "code",
   "execution_count": null,
   "metadata": {},
   "outputs": [],
   "source": [
    "my_print(score_matrix)"
   ]
  },
  {
   "cell_type": "code",
   "execution_count": null,
   "metadata": {},
   "outputs": [],
   "source": [
    "pairwise_score"
   ]
  },
  {
   "cell_type": "code",
   "execution_count": null,
   "metadata": {},
   "outputs": [],
   "source": [
    "sorted_pairs = sorted(pairwise_score.items(), key=lambda x:-x[1])\n",
    "sorted_pairs"
   ]
  },
  {
   "cell_type": "code",
   "execution_count": null,
   "metadata": {},
   "outputs": [],
   "source": [
    "matrix = [[0] * (i + 1) for i in range(len(gen_array))]\n",
    "\n",
    "for (i, j), score in pairwise_score.items():\n",
    "    distance = 1 - (score / max(pairwise_score.values()))\n",
    "    if i < j:\n",
    "        matrix[j][i] = distance"
   ]
  },
  {
   "cell_type": "code",
   "execution_count": null,
   "metadata": {},
   "outputs": [],
   "source": [
    "matrix"
   ]
  },
  {
   "cell_type": "code",
   "execution_count": null,
   "metadata": {},
   "outputs": [],
   "source": [
    "from Bio.Phylo.TreeConstruction import DistanceTreeConstructor, DistanceMatrix\n",
    "from Bio import Phylo\n",
    "\n",
    "labels = [f\"Gen_{(i+1)*10}\" for i in range(len(gen_array))]\n",
    "labels"
   ]
  },
  {
   "cell_type": "code",
   "execution_count": null,
   "metadata": {},
   "outputs": [],
   "source": [
    "distance_matrix = DistanceMatrix(labels, matrix)"
   ]
  },
  {
   "cell_type": "code",
   "execution_count": null,
   "metadata": {},
   "outputs": [],
   "source": [
    "constructor = DistanceTreeConstructor()\n",
    "tree = constructor.nj(distance_matrix)\n",
    "Phylo.draw(tree)\n",
    "plt.figure(figsize=(9,10))\n",
    "plt.show()"
   ]
  },
  {
   "cell_type": "code",
   "execution_count": null,
   "metadata": {},
   "outputs": [],
   "source": [
    "gen_array"
   ]
  },
  {
   "cell_type": "code",
   "execution_count": null,
   "metadata": {},
   "outputs": [],
   "source": [
    "sorted_pairs[0][0][1]"
   ]
  }
 ],
 "metadata": {
  "kernelspec": {
   "display_name": "Python 3",
   "language": "python",
   "name": "python3"
  },
  "language_info": {
   "codemirror_mode": {
    "name": "ipython",
    "version": 3
   },
   "file_extension": ".py",
   "mimetype": "text/x-python",
   "name": "python",
   "nbconvert_exporter": "python",
   "pygments_lexer": "ipython3",
   "version": "3.13.2"
  }
 },
 "nbformat": 4,
 "nbformat_minor": 2
}
