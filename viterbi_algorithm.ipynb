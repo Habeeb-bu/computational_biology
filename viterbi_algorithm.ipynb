{
 "cells": [
  {
   "cell_type": "code",
   "execution_count": 1,
   "metadata": {},
   "outputs": [],
   "source": [
    "import random"
   ]
  },
  {
   "cell_type": "code",
   "execution_count": 2,
   "metadata": {},
   "outputs": [
    {
     "name": "stdout",
     "output_type": "stream",
     "text": [
      "[3, 1, 1, 5, 3, 1, 2, 1, 1, 4]\n"
     ]
    }
   ],
   "source": [
    "x = []\n",
    "for i in range(10):\n",
    "    x.append(random.randint(1,6))\n",
    "print(x)"
   ]
  },
  {
   "cell_type": "code",
   "execution_count": 3,
   "metadata": {},
   "outputs": [
    {
     "data": {
      "text/plain": [
       "[0,\n",
       " 0.16666666666666666,\n",
       " 0.16666666666666666,\n",
       " 0.16666666666666666,\n",
       " 0.16666666666666666,\n",
       " 0.16666666666666666,\n",
       " 0.16666666666666666]"
      ]
     },
     "execution_count": 3,
     "metadata": {},
     "output_type": "execute_result"
    }
   ],
   "source": [
    "efair = [1.0/6.0 for i in range (1,7)]\n",
    "efair.insert(0,0)\n",
    "efair"
   ]
  },
  {
   "cell_type": "code",
   "execution_count": 4,
   "metadata": {},
   "outputs": [
    {
     "data": {
      "text/plain": [
       "[0, 0.1, 0.1, 0.1, 0.1, 0.1, 0.5]"
      ]
     },
     "execution_count": 4,
     "metadata": {},
     "output_type": "execute_result"
    }
   ],
   "source": [
    "eloaded = [1.0/10.0 for i in range (1,6)]\n",
    "eloaded.append(1.0/2.0)\n",
    "eloaded.insert(0,0)\n",
    "eloaded"
   ]
  },
  {
   "cell_type": "code",
   "execution_count": 5,
   "metadata": {},
   "outputs": [],
   "source": [
    "aFF = 0.95 # fair to fair\n",
    "aFL = 0.05 # fair to loaded\n",
    "aLL = 0.90 # loaded to loaded\n",
    "aLF = 0.10 # loaded to fair"
   ]
  },
  {
   "cell_type": "code",
   "execution_count": null,
   "metadata": {},
   "outputs": [
    {
     "name": "stdout",
     "output_type": "stream",
     "text": [
      "[1, 0.15833333333333333, 0.02506944444444444, 0.003969328703703702, 0.0006284770447530861, 9.950886541923863e-05, 1.5755570358046112e-05, 2.494631973357301e-06, 3.9498339578157264e-07, 6.253903766541567e-08, 9.902014297024146e-09]\n",
      "[0, 0.005000000000000001, 0.0007916666666666668, 0.0001253472222222222, 1.9846643518518515e-05, 3.142385223765431e-06, 4.975443270961932e-07, 7.877785179023057e-08, 1.2473159866786506e-08, 1.9749169789078633e-09, 3.1269518832707833e-10]\n"
     ]
    }
   ],
   "source": [
    "vfair = []\n",
    "vloaded = []\n",
    "vfair.append(1)\n",
    "vloaded.append(0) \n",
    "\n",
    "for i in range(1, (len(x)+1)):\n",
    "    vfair.append(efair[x[i-1]] * max(vfair[i-1]*aFF, vloaded[i-1]*aLF))\n",
    "    vloaded.append(eloaded[x[i-1]] * max(vfair[i-1]*aFL, vloaded[i-1]*aLL))\n",
    "\n",
    "print(vfair)\n",
    "print(vloaded)"
   ]
  }
 ],
 "metadata": {
  "kernelspec": {
   "display_name": "Python 3",
   "language": "python",
   "name": "python3"
  },
  "language_info": {
   "codemirror_mode": {
    "name": "ipython",
    "version": 3
   },
   "file_extension": ".py",
   "mimetype": "text/x-python",
   "name": "python",
   "nbconvert_exporter": "python",
   "pygments_lexer": "ipython3",
   "version": "3.13.2"
  }
 },
 "nbformat": 4,
 "nbformat_minor": 2
}
