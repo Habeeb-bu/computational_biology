{
 "cells": [
  {
   "cell_type": "code",
   "execution_count": 487,
   "metadata": {},
   "outputs": [],
   "source": [
    "import random"
   ]
  },
  {
   "cell_type": "code",
   "execution_count": 488,
   "metadata": {},
   "outputs": [
    {
     "name": "stdout",
     "output_type": "stream",
     "text": [
      "[1, 2, 3, 6, 6, 6, 5, 1, 1, 3, 5, 2, 3, 4, 5, 6, 6, 6]\n"
     ]
    }
   ],
   "source": [
    "x = []\n",
    "# for i in range(10):\n",
    "#     x.append(random.randint(1,6))\n",
    "#Loaded state\n",
    "for i in range(10):\n",
    "    x.append(random.randint(1,6))\n",
    "\n",
    "x = [1,2,3,6,6,6,5,1,1,3,5,2,3,4,5,6,6,6]\n",
    "print(x)"
   ]
  },
  {
   "cell_type": "code",
   "execution_count": 489,
   "metadata": {},
   "outputs": [
    {
     "data": {
      "text/plain": [
       "[0,\n",
       " 0.16666666666666666,\n",
       " 0.16666666666666666,\n",
       " 0.16666666666666666,\n",
       " 0.16666666666666666,\n",
       " 0.16666666666666666,\n",
       " 0.16666666666666666]"
      ]
     },
     "execution_count": 489,
     "metadata": {},
     "output_type": "execute_result"
    }
   ],
   "source": [
    "efair = [1.0/6.0 for i in range (1,7)]\n",
    "efair.insert(0,0)\n",
    "efair"
   ]
  },
  {
   "cell_type": "code",
   "execution_count": 490,
   "metadata": {},
   "outputs": [
    {
     "data": {
      "text/plain": [
       "[0, 0.1, 0.1, 0.1, 0.1, 0.1, 0.5]"
      ]
     },
     "execution_count": 490,
     "metadata": {},
     "output_type": "execute_result"
    }
   ],
   "source": [
    "eloaded = [1.0/10.0 for i in range (1,6)]\n",
    "eloaded.append(1.0/2.0)\n",
    "eloaded.insert(0,0)\n",
    "eloaded"
   ]
  },
  {
   "cell_type": "code",
   "execution_count": 491,
   "metadata": {},
   "outputs": [],
   "source": [
    "aFF = 0.95 # fair to fair\n",
    "aFL = 0.05 # fair to loaded\n",
    "aLL = 0.90 # loaded to loaded\n",
    "aLF = 0.10 # loaded to fair"
   ]
  },
  {
   "cell_type": "code",
   "execution_count": 492,
   "metadata": {},
   "outputs": [
    {
     "name": "stdout",
     "output_type": "stream",
     "text": [
      "[0.5, 0.07916666666666666, 0.01253472222222222, 0.001984664351851851, 0.00031423852237654306, 4.9754432709619314e-05, 7.877785179023056e-06, 1.2473159866786505e-06, 1.9749169789078632e-07, 3.1269518832707833e-08, 4.951007148512073e-09, 7.839094651810781e-10, 1.2411899865367067e-10, 1.9652174786831188e-11, 3.1115943412482714e-12, 4.926691040309762e-13, 7.800594147157122e-14, 1.2350940732998776e-14, 1.9555656160581393e-15]\n",
      "[0.5, 0.045000000000000005, 0.004050000000000001, 0.0003645000000000001, 0.00016402500000000004, 7.381125000000002e-05, 3.321506250000001e-05, 2.989355625000001e-06, 2.690420062500001e-07, 2.4213780562500012e-08, 2.1792402506250012e-09, 1.961316225562501e-10, 1.7651846030062514e-11, 1.5886661427056262e-12, 1.429799528435064e-13, 1.5557971706241358e-14, 1.2316727600774405e-14, 5.542527420348482e-15, 2.494137339156817e-15]\n",
      "['F', 'F', 'F', 'F', 'F', 'F', 'F', 'F', 'F', 'F', 'F', 'F', 'F', 'F', 'F', 'F', 'F', 'F']\n",
      "['L', 'L', 'L', 'L', 'L', 'L', 'L', 'L', 'L', 'L', 'L', 'L', 'L', 'L', 'F', 'F', 'L', 'L']\n",
      "[1, 2, 3, 6, 6, 6, 5, 1, 1, 3, 5, 2, 3, 4, 5, 6, 6, 6]\n"
     ]
    }
   ],
   "source": [
    "vfair = []\n",
    "vloaded = []\n",
    "vfairP = []\n",
    "vloadedP = []\n",
    "vfair.append(0.5)\n",
    "vloaded.append(0.5) \n",
    "\n",
    "for i in range(1, (len(x)+1)):\n",
    "    vfair.append(efair[x[i-1]] * max(vfair[i-1]*aFF, vloaded[i-1]*aLF))\n",
    "    if(vfair[i-1]*aFF > vloaded[i-1]*aLF):\n",
    "        vfairP.append('F')\n",
    "    else:\n",
    "        vfairP.append('L')\n",
    "    vloaded.append(eloaded[x[i-1]] * max(vfair[i-1]*aFL, vloaded[i-1]*aLL))\n",
    "    if(vfair[i-1]*aFL > vloaded[i-1]*aLL):\n",
    "        vloadedP.append('F')\n",
    "    else:\n",
    "        vloadedP.append('L')\n",
    "print(vfair)\n",
    "print(vloaded)\n",
    "print(vfairP)\n",
    "print(vloadedP)\n",
    "print(x)"
   ]
  },
  {
   "cell_type": "code",
   "execution_count": 493,
   "metadata": {},
   "outputs": [
    {
     "name": "stdout",
     "output_type": "stream",
     "text": [
      "['F', 'F', 'F', 'F', 'F', 'F', 'F', 'F', 'F', 'F', 'F', 'F', 'F', 'F', 'F', 'L', 'L', 'L']\n"
     ]
    }
   ],
   "source": [
    "path = []\n",
    "currentState = \"\"\n",
    "if(vfair[len(x)] > vloaded[len(x)]): # if fair is greater than loaded append fair to current state\n",
    "    currentState = \"F\"\n",
    "else:\n",
    "    currentState = \"L\"\n",
    "\n",
    "path.append(currentState)\n",
    "\n",
    "for i in range(len(x)-1,0,-1):\n",
    "    if (currentState == \"F\"):\n",
    "        currentState = vfairP[i]\n",
    "    else:\n",
    "        currentState = vloadedP[i]\n",
    "    \n",
    "    path.append(currentState)\n",
    "\n",
    "path = path[::-1]\n",
    "\n",
    "print(path)"
   ]
  },
  {
   "cell_type": "markdown",
   "metadata": {},
   "source": [
    "The letters determine if you came from the right state. F means coming from fair state. L meanind coming from loaded. If seqquence is FL"
   ]
  },
  {
   "cell_type": "code",
   "execution_count": 494,
   "metadata": {},
   "outputs": [
    {
     "name": "stdout",
     "output_type": "stream",
     "text": [
      "['F', 'F', 'F', 'F', 'F', 'F', 'F', 'F', 'F', 'F', 'F', 'F', 'F', 'F', 'F', 'F', 'F', 'F']\n",
      "['L', 'L', 'L', 'L', 'L', 'L', 'L', 'L', 'L', 'L', 'L', 'L', 'L', 'L', 'F', 'F', 'L', 'L']\n",
      "['F', 'F', 'F', 'F', 'F', 'F', 'F', 'F', 'F', 'F', 'F', 'F', 'F', 'F', 'F', 'L', 'L', 'L']\n"
     ]
    }
   ],
   "source": [
    "print(vfairP)\n",
    "print(vloadedP)\n",
    "print(path)"
   ]
  }
 ],
 "metadata": {
  "kernelspec": {
   "display_name": "Python 3",
   "language": "python",
   "name": "python3"
  },
  "language_info": {
   "codemirror_mode": {
    "name": "ipython",
    "version": 3
   },
   "file_extension": ".py",
   "mimetype": "text/x-python",
   "name": "python",
   "nbconvert_exporter": "python",
   "pygments_lexer": "ipython3",
   "version": "3.13.2"
  }
 },
 "nbformat": 4,
 "nbformat_minor": 2
}
