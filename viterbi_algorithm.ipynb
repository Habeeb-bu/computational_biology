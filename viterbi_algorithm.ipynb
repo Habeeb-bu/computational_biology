{
 "cells": [
  {
   "cell_type": "code",
   "execution_count": 25,
   "metadata": {},
   "outputs": [],
   "source": [
    "import random"
   ]
  },
  {
   "cell_type": "code",
   "execution_count": 26,
   "metadata": {},
   "outputs": [
    {
     "name": "stdout",
     "output_type": "stream",
     "text": [
      "[1, 2, 3, 6, 6, 6, 6, 6, 6, 6, 6, 6]\n"
     ]
    }
   ],
   "source": [
    "x = []\n",
    "for i in range(3):\n",
    "    x.append(random.randint(1,6))\n",
    "# #Loaded state\n",
    "# for i in range(10):\n",
    "#     x.append(random.randint(6,6))\n",
    "\n",
    "x = [1,2,3,6,6,6,6,6,6,6,6,6]\n",
    "print(x)"
   ]
  },
  {
   "cell_type": "code",
   "execution_count": 27,
   "metadata": {},
   "outputs": [
    {
     "data": {
      "text/plain": [
       "[0,\n",
       " 0.16666666666666666,\n",
       " 0.16666666666666666,\n",
       " 0.16666666666666666,\n",
       " 0.16666666666666666,\n",
       " 0.16666666666666666,\n",
       " 0.16666666666666666]"
      ]
     },
     "execution_count": 27,
     "metadata": {},
     "output_type": "execute_result"
    }
   ],
   "source": [
    "efair = [1.0/6.0 for i in range (1,7)]\n",
    "efair.insert(0,0)\n",
    "efair"
   ]
  },
  {
   "cell_type": "code",
   "execution_count": 28,
   "metadata": {},
   "outputs": [
    {
     "data": {
      "text/plain": [
       "[0, 0.1, 0.1, 0.1, 0.1, 0.1, 0.5]"
      ]
     },
     "execution_count": 28,
     "metadata": {},
     "output_type": "execute_result"
    }
   ],
   "source": [
    "eloaded = [1.0/10.0 for i in range (1,6)]\n",
    "eloaded.append(1.0/2.0)\n",
    "eloaded.insert(0,0)\n",
    "eloaded"
   ]
  },
  {
   "cell_type": "code",
   "execution_count": 29,
   "metadata": {},
   "outputs": [],
   "source": [
    "aFF = 0.95 # fair to fair\n",
    "aFL = 0.05 # fair to loaded\n",
    "aLL = 0.90 # loaded to loaded\n",
    "aLF = 0.10 # loaded to fair"
   ]
  },
  {
   "cell_type": "code",
   "execution_count": 30,
   "metadata": {},
   "outputs": [
    {
     "data": {
      "text/plain": [
       "0.475"
      ]
     },
     "execution_count": 30,
     "metadata": {},
     "output_type": "execute_result"
    }
   ],
   "source": [
    "vfair[0]*aFF"
   ]
  },
  {
   "cell_type": "code",
   "execution_count": 31,
   "metadata": {},
   "outputs": [
    {
     "data": {
      "text/plain": [
       "0.05"
      ]
     },
     "execution_count": 31,
     "metadata": {},
     "output_type": "execute_result"
    }
   ],
   "source": [
    "vloaded[0]*aLF"
   ]
  },
  {
   "cell_type": "code",
   "execution_count": 32,
   "metadata": {},
   "outputs": [
    {
     "name": "stdout",
     "output_type": "stream",
     "text": [
      "[0.5, 0.07916666666666666, 0.01253472222222222, 0.001984664351851851, 0.00031423852237654306, 4.9754432709619314e-05, 7.877785179023056e-06, 1.2473159866786505e-06, 2.4911296875000003e-07, 1.1210083593750003e-07, 5.0445376171875016e-08, 2.2700419277343756e-08, 1.0215188674804689e-08]\n",
      "[0.5, 0.045000000000000005, 0.004050000000000001, 0.0003645000000000001, 0.00016402500000000004, 7.381125000000002e-05, 3.321506250000001e-05, 1.4946778125000003e-05, 6.726050156250002e-06, 3.0267225703125006e-06, 1.3620251566406252e-06, 6.129113204882813e-07, 2.758100942197266e-07]\n",
      "['F', 'F', 'F', 'F', 'F', 'F', 'F', 'L', 'L', 'L', 'L', 'L']\n",
      "['L', 'L', 'L', 'L', 'L', 'L', 'L', 'L', 'L', 'L', 'L', 'L']\n",
      "[1, 2, 3, 6, 6, 6, 6, 6, 6, 6, 6, 6]\n"
     ]
    }
   ],
   "source": [
    "vfair = []\n",
    "vloaded = []\n",
    "vfairP = []\n",
    "vloadedP = []\n",
    "vfair.append(0.5)\n",
    "vloaded.append(0.5) \n",
    "\n",
    "for i in range(1, (len(x)+1)):\n",
    "    vfair.append(efair[x[i-1]] * max(vfair[i-1]*aFF, vloaded[i-1]*aLF))\n",
    "    if(vfair[i-1]*aFF > vloaded[i-1]*aLF):\n",
    "        vfairP.append('F')\n",
    "    else:\n",
    "        vfairP.append('L')\n",
    "    vloaded.append(eloaded[x[i-1]] * max(vfair[i-1]*aFL, vloaded[i-1]*aLL))\n",
    "    if(vfair[i-1]*aFL > vloaded[i-1]*aLL):\n",
    "        vloadedP.append('F')\n",
    "    else:\n",
    "        vloadedP.append('L')\n",
    "print(vfair)\n",
    "print(vloaded)\n",
    "print(vfairP)\n",
    "print(vloadedP)\n",
    "print(x)"
   ]
  },
  {
   "cell_type": "code",
   "execution_count": 33,
   "metadata": {},
   "outputs": [
    {
     "name": "stdout",
     "output_type": "stream",
     "text": [
      "['L', 'L', 'L', 'L', 'L', 'L', 'L', 'L', 'L', 'L', 'L', 'L']\n"
     ]
    }
   ],
   "source": [
    "path = []\n",
    "currentState = \"\"\n",
    "if(vfair[len(x)]> vloaded[len(x)]):\n",
    "    currentState = \"F\"\n",
    "else:\n",
    "    currentState = \"L\"\n",
    "\n",
    "path.append(currentState)\n",
    "\n",
    "for i in range(len(x)-1,0,-1):\n",
    "    if (currentState == \"F\"):\n",
    "        currentState = vfairP[i]\n",
    "    else:\n",
    "        currentState = vloadedP[i]\n",
    "    \n",
    "    path.append(currentState)\n",
    "\n",
    "path = path[::-1]\n",
    "\n",
    "print(path)"
   ]
  },
  {
   "cell_type": "markdown",
   "metadata": {},
   "source": [
    "The letters determine if you came from the right state. F means coming from fair state. L meanind coming from loaded. If seqquence is FL"
   ]
  }
 ],
 "metadata": {
  "kernelspec": {
   "display_name": "Python 3",
   "language": "python",
   "name": "python3"
  },
  "language_info": {
   "codemirror_mode": {
    "name": "ipython",
    "version": 3
   },
   "file_extension": ".py",
   "mimetype": "text/x-python",
   "name": "python",
   "nbconvert_exporter": "python",
   "pygments_lexer": "ipython3",
   "version": "3.13.2"
  }
 },
 "nbformat": 4,
 "nbformat_minor": 2
}
